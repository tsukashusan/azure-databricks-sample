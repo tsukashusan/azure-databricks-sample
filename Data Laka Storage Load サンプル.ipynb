{
 "cells": [
  {
   "cell_type": "markdown",
   "metadata": {
    "application/vnd.databricks.v1+cell": {
     "cellMetadata": {},
     "inputWidgets": {},
     "nuid": "2b74fb3f-91b8-400b-a25b-22991b2b75e4",
     "showTitle": false,
     "tableResultSettingsMap": {},
     "title": ""
    }
   },
   "source": [
    "#Data Lake Storage Gen2 の初期化"
   ]
  },
  {
   "cell_type": "code",
   "execution_count": 0,
   "metadata": {
    "application/vnd.databricks.v1+cell": {
     "cellMetadata": {
      "byteLimit": 2048000,
      "rowLimit": 10000
     },
     "inputWidgets": {},
     "nuid": "2d0cbd9c-b553-4d79-a325-82c67d0a9dcf",
     "showTitle": false,
     "tableResultSettingsMap": {},
     "title": ""
    }
   },
   "outputs": [],
   "source": [
    "service_credential = dbutils.secrets.get(scope=\"key-vault-secret\",key=\"access-key\")\n",
    "\n",
    "abfs_container_name = \"<container_name>\"\n",
    "abfs_account = \"<abfs_account>\"\n",
    "tenant_id = \"<tenant_id>\"\n",
    "client_id = \"<client_id>\"\n",
    "\n",
    "spark.conf.set(f\"fs.azure.account.auth.type.{abfs_account}\", \"OAuth\")\n",
    "spark.conf.set(f\"fs.azure.account.oauth.provider.type.{abfs_account}\", \"org.apache.hadoop.fs.azurebfs.oauth2.ClientCredsTokenProvider\")\n",
    "spark.conf.set(f\"fs.azure.account.oauth2.client.id.{abfs_account}.dfs.core.windows.net\", client_id)\n",
    "spark.conf.set(f\"fs.azure.account.oauth2.client.secret.{abfs_account}.dfs.core.windows.net\", service_credential)\n",
    "spark.conf.set(f\"fs.azure.account.oauth2.client.endpoint.{abfs_account}.dfs.core.windows.net\", f\"https://login.microsoftonline.com/{tenant_id}/oauth2/token\")\n",
    "spark.conf.set(\"spark.databricks.unityCatalogOnlyModel\", \"true\")\n",
    "\n",
    "dl2Uri = f\"abfss://{abfs_container_name}@{abfs_account}\""
   ]
  },
  {
   "cell_type": "markdown",
   "metadata": {
    "application/vnd.databricks.v1+cell": {
     "cellMetadata": {},
     "inputWidgets": {},
     "nuid": "30308c55-d392-477e-ba1a-da12670e1355",
     "showTitle": false,
     "tableResultSettingsMap": {},
     "title": ""
    }
   },
   "source": [
    "##入力操作"
   ]
  },
  {
   "cell_type": "markdown",
   "metadata": {
    "application/vnd.databricks.v1+cell": {
     "cellMetadata": {},
     "inputWidgets": {},
     "nuid": "2996388c-f82d-4a6e-a3eb-9bcf3f87a8b1",
     "showTitle": false,
     "tableResultSettingsMap": {},
     "title": ""
    }
   },
   "source": [
    "###ファイルリスト"
   ]
  },
  {
   "cell_type": "code",
   "execution_count": 0,
   "metadata": {
    "application/vnd.databricks.v1+cell": {
     "cellMetadata": {
      "byteLimit": 2048000,
      "rowLimit": 10000
     },
     "inputWidgets": {},
     "nuid": "2419e241-5029-4baa-8f0b-ad3e907032a2",
     "showTitle": false,
     "tableResultSettingsMap": {},
     "title": ""
    }
   },
   "outputs": [],
   "source": [
    "#仕入先\n",
    "dbutils.fs.ls(f\"{dl2Uri}/sample/仕入先\")"
   ]
  },
  {
   "cell_type": "code",
   "execution_count": 0,
   "metadata": {
    "application/vnd.databricks.v1+cell": {
     "cellMetadata": {
      "byteLimit": 2048000,
      "rowLimit": 10000
     },
     "inputWidgets": {},
     "nuid": "5438ecc7-2213-435a-9123-f5b1fcdcb050",
     "showTitle": false,
     "tableResultSettingsMap": {},
     "title": ""
    }
   },
   "outputs": [],
   "source": [
    "#得意先\n",
    "dbutils.fs.ls(f\"{dl2Uri}/sample/得意先\")"
   ]
  },
  {
   "cell_type": "code",
   "execution_count": 0,
   "metadata": {
    "application/vnd.databricks.v1+cell": {
     "cellMetadata": {
      "byteLimit": 2048000,
      "rowLimit": 10000
     },
     "inputWidgets": {},
     "nuid": "2483a812-e05b-44d0-a94f-e4d92b843b79",
     "showTitle": false,
     "tableResultSettingsMap": {},
     "title": ""
    }
   },
   "outputs": [],
   "source": [
    "#社員\n",
    "dbutils.fs.ls(f\"{dl2Uri}/sample/社員\")"
   ]
  },
  {
   "cell_type": "code",
   "execution_count": 0,
   "metadata": {
    "application/vnd.databricks.v1+cell": {
     "cellMetadata": {},
     "inputWidgets": {},
     "nuid": "bcd6e4b5-e388-4761-9413-4ed1bf9e0013",
     "showTitle": false,
     "tableResultSettingsMap": {},
     "title": ""
    }
   },
   "outputs": [],
   "source": [
    "#都道府県\n",
    "dbutils.fs.ls(f\"{dl2Uri}/sample/都道府県\")"
   ]
  },
  {
   "cell_type": "code",
   "execution_count": 0,
   "metadata": {
    "application/vnd.databricks.v1+cell": {
     "cellMetadata": {},
     "inputWidgets": {},
     "nuid": "2276897e-b706-4309-85ea-ffd088784779",
     "showTitle": false,
     "tableResultSettingsMap": {},
     "title": ""
    }
   },
   "outputs": [],
   "source": [
    "#商品\n",
    "dbutils.fs.ls(f\"{dl2Uri}/sample/商品\")"
   ]
  },
  {
   "cell_type": "code",
   "execution_count": 0,
   "metadata": {
    "application/vnd.databricks.v1+cell": {
     "cellMetadata": {},
     "inputWidgets": {},
     "nuid": "7de0ff98-9b9e-4b33-85e3-79ef56a0d114",
     "showTitle": false,
     "tableResultSettingsMap": {},
     "title": ""
    }
   },
   "outputs": [],
   "source": [
    "#商品区分\n",
    "dbutils.fs.ls(f\"{dl2Uri}/sample/商品区分\")"
   ]
  },
  {
   "cell_type": "code",
   "execution_count": 0,
   "metadata": {
    "application/vnd.databricks.v1+cell": {
     "cellMetadata": {},
     "inputWidgets": {},
     "nuid": "cc0caa64-c0a2-4a90-a4be-eda738ecdbd1",
     "showTitle": false,
     "tableResultSettingsMap": {},
     "title": ""
    }
   },
   "outputs": [],
   "source": [
    "#運送会社\n",
    "dbutils.fs.ls(f\"{dl2Uri}/sample/運送会社\")"
   ]
  },
  {
   "cell_type": "code",
   "execution_count": 0,
   "metadata": {
    "application/vnd.databricks.v1+cell": {
     "cellMetadata": {},
     "inputWidgets": {},
     "nuid": "946c56d4-8bb9-4df8-a46b-a327c21a583d",
     "showTitle": false,
     "tableResultSettingsMap": {},
     "title": ""
    }
   },
   "outputs": [],
   "source": [
    "#受注\n",
    "dbutils.fs.ls(f\"{dl2Uri}/sample/受注\")"
   ]
  },
  {
   "cell_type": "code",
   "execution_count": 0,
   "metadata": {
    "application/vnd.databricks.v1+cell": {
     "cellMetadata": {},
     "inputWidgets": {},
     "nuid": "1efcefdb-2f66-4579-9ead-574c755804ab",
     "showTitle": false,
     "tableResultSettingsMap": {},
     "title": ""
    }
   },
   "outputs": [],
   "source": [
    "#受注明細\n",
    "dbutils.fs.ls(f\"{dl2Uri}/sample/受注明細\")"
   ]
  },
  {
   "cell_type": "markdown",
   "metadata": {
    "application/vnd.databricks.v1+cell": {
     "cellMetadata": {},
     "inputWidgets": {},
     "nuid": "458d98f7-eb93-4588-b8fe-6aacb8720dc9",
     "showTitle": false,
     "tableResultSettingsMap": {},
     "title": ""
    }
   },
   "source": [
    "###CSVファイルの読み込み"
   ]
  },
  {
   "cell_type": "code",
   "execution_count": 0,
   "metadata": {
    "application/vnd.databricks.v1+cell": {
     "cellMetadata": {
      "byteLimit": 2048000,
      "rowLimit": 10000
     },
     "inputWidgets": {},
     "nuid": "4ce426e4-5f78-4151-acb2-d18f313b3322",
     "showTitle": false,
     "tableResultSettingsMap": {},
     "title": ""
    }
   },
   "outputs": [],
   "source": [
    "shiresaki = spark.read.format(\"csv\").option(\"header\", \"false\").option(\"mode\", \"DROPMALFORMED\").load(f\"{dl2Uri}/sample/仕入先/\")\n",
    "zyuchu = spark.read.format(\"csv\").option(\"header\", \"false\").option(\"mode\", \"DROPMALFORMED\").load(f\"{dl2Uri}/sample/受注/\")\n",
    "zyuchumeisai = spark.read.format(\"csv\").option(\"header\", \"false\").option(\"mode\", \"DROPMALFORMED\").load(f\"{dl2Uri}/sample/受注明細/\")\n",
    "shohin = spark.read.format(\"csv\").option(\"header\", \"false\").option(\"mode\", \"DROPMALFORMED\").load(f\"{dl2Uri}/sample/商品/\")\n",
    "shohinkubun = spark.read.format(\"csv\").option(\"header\", \"false\").option(\"mode\", \"DROPMALFORMED\").load(f\"{dl2Uri}/sample/商品区分/\")\n",
    "tokuisaki = spark.read.format(\"csv\").option(\"header\", \"false\").option(\"mode\", \"DROPMALFORMED\").load(f\"{dl2Uri}/sample/得意先/\")\n",
    "shain = spark.read.format(\"csv\").option(\"header\", \"false\").option(\"mode\", \"DROPMALFORMED\").load(f\"{dl2Uri}/sample/社員/\")\n",
    "unso = spark.read.format(\"csv\").option(\"header\", \"false\").option(\"mode\", \"DROPMALFORMED\").load(f\"{dl2Uri}/sample/運送会社/\")\n",
    "todofuken = spark.read.format(\"csv\").option(\"header\", \"false\").option(\"mode\", \"DROPMALFORMED\").load(f\"{dl2Uri}/sample/都道府県/\")"
   ]
  },
  {
   "cell_type": "markdown",
   "metadata": {
    "application/vnd.databricks.v1+cell": {
     "cellMetadata": {},
     "inputWidgets": {},
     "nuid": "96efadfa-aa98-4099-81f4-4537fdd88e97",
     "showTitle": false,
     "tableResultSettingsMap": {},
     "title": ""
    }
   },
   "source": [
    "###カラム名の設定"
   ]
  },
  {
   "cell_type": "code",
   "execution_count": 0,
   "metadata": {
    "application/vnd.databricks.v1+cell": {
     "cellMetadata": {
      "byteLimit": 2048000,
      "rowLimit": 10000
     },
     "inputWidgets": {},
     "nuid": "e5cab530-cb1a-48fb-8887-3cd6ab1d6fbf",
     "showTitle": false,
     "tableResultSettingsMap": {},
     "title": ""
    }
   },
   "outputs": [],
   "source": [
    "shiresaki = shiresaki.withColumnRenamed(\"_c0\", \"仕入先コード\") \\\n",
    "                     .withColumnRenamed(\"_c1\", \"フリガナ\") \\\n",
    "                     .withColumnRenamed(\"_c2\", \"仕入先名\") \\\n",
    "                     .withColumnRenamed(\"_c3\", \"担当者名\") \\\n",
    "                     .withColumnRenamed(\"_c4\", \"部署\") \\\n",
    "                     .withColumnRenamed(\"_c5\", \"郵便番号\") \\\n",
    "                     .withColumnRenamed(\"_c6\", \"トドウフケン\") \\\n",
    "                     .withColumnRenamed(\"_c7\", \"都道府県\") \\\n",
    "                     .withColumnRenamed(\"_c8\", \"住所1\") \\\n",
    "                     .withColumnRenamed(\"_c9\", \"住所2\") \\\n",
    "                     .withColumnRenamed(\"_c10\", \"電話番号\") \\\n",
    "                     .withColumnRenamed(\"_c11\", \"ファクシミリ\") \\\n",
    "                     .withColumnRenamed(\"_c12\", \"ホームページ\")\n",
    "\n",
    "zyuchu = zyuchu.withColumnRenamed(\"_c0\", \"受注コード\") \\\n",
    "               .withColumnRenamed(\"_c1\", \"得意先コード\") \\\n",
    "               .withColumnRenamed(\"_c2\", \"社員コード\") \\\n",
    "               .withColumnRenamed(\"_c3\", \"出荷先名\") \\\n",
    "               .withColumnRenamed(\"_c4\", \"出荷先郵便番号\") \\\n",
    "               .withColumnRenamed(\"_c5\", \"出荷先都道府県\") \\\n",
    "               .withColumnRenamed(\"_c6\", \"出荷先住所1\") \\\n",
    "               .withColumnRenamed(\"_c7\", \"出荷先住所2\") \\\n",
    "               .withColumnRenamed(\"_c8\", \"運送区分\") \\\n",
    "               .withColumnRenamed(\"_c9\", \"受注日\") \\\n",
    "               .withColumnRenamed(\"_c10\", \"締切日\") \\\n",
    "               .withColumnRenamed(\"_c11\", \"出荷日\") \\\n",
    "               .withColumnRenamed(\"_c12\", \"運送料\")\n",
    "\n",
    "\n",
    "zyuchumeisai = zyuchumeisai.withColumnRenamed(\"_c0\", \"受注コード\") \\\n",
    "                           .withColumnRenamed(\"_c1\", \"商品コード\") \\\n",
    "                           .withColumnRenamed(\"_c2\", \"単価\") \\\n",
    "                           .withColumnRenamed(\"_c3\", \"数量\") \\\n",
    "                           .withColumnRenamed(\"_c4\", \"割引\")\n",
    "\n",
    "\n",
    "shohin = shohin.withColumnRenamed(\"_c0\", \"商品コード\") \\\n",
    "               .withColumnRenamed(\"_c1\", \"フリガナ\") \\\n",
    "               .withColumnRenamed(\"_c2\", \"商品名\") \\\n",
    "               .withColumnRenamed(\"_c3\", \"仕入先コード\") \\\n",
    "               .withColumnRenamed(\"_c4\", \"区分コード\") \\\n",
    "               .withColumnRenamed(\"_c5\", \"梱包単位\") \\\n",
    "               .withColumnRenamed(\"_c6\", \"単価\") \\\n",
    "               .withColumnRenamed(\"_c7\", \"在庫\") \\\n",
    "               .withColumnRenamed(\"_c8\", \"発注済\") \\\n",
    "               .withColumnRenamed(\"_c9\", \"発注点\") \\\n",
    "               .withColumnRenamed(\"_c10\", \"生産中止\")\n",
    "\n",
    "\n",
    "shohinkubun = shohinkubun.withColumnRenamed(\"_c0\", \"区分コード\") \\\n",
    "                         .withColumnRenamed(\"_c1\", \"区分名\") \\\n",
    "                         .withColumnRenamed(\"_c2\", \"商品名\") \\\n",
    "                         .withColumnRenamed(\"_c3\", \"説明\") \\\n",
    "                         .withColumnRenamed(\"_c4\", \"図\")\n",
    "\n",
    "\n",
    "tokuisaki = tokuisaki.withColumnRenamed(\"_c0\", \"得意先コード\") \\\n",
    "               .withColumnRenamed(\"_c1\", \"フリガナ\") \\\n",
    "               .withColumnRenamed(\"_c2\", \"得意先名\") \\\n",
    "               .withColumnRenamed(\"_c3\", \"担当者名\") \\\n",
    "               .withColumnRenamed(\"_c4\", \"部署\") \\\n",
    "               .withColumnRenamed(\"_c5\", \"郵便番号\") \\\n",
    "               .withColumnRenamed(\"_c6\", \"トドウフケン\") \\\n",
    "               .withColumnRenamed(\"_c7\", \"都道府県\") \\\n",
    "               .withColumnRenamed(\"_c8\", \"住所1\") \\\n",
    "               .withColumnRenamed(\"_c9\", \"住所2\") \\\n",
    "               .withColumnRenamed(\"_c10\", \"電話番号\") \\\n",
    "               .withColumnRenamed(\"_c11\", \"ファクシミリ\")\n",
    "\n",
    "\n",
    "shain = shain.withColumnRenamed(\"_c0\", \"社員コード\") \\\n",
    "             .withColumnRenamed(\"_c1\", \"フリガナ\") \\\n",
    "             .withColumnRenamed(\"_c2\", \"氏名\") \\\n",
    "             .withColumnRenamed(\"_c3\", \"在籍支社\") \\\n",
    "             .withColumnRenamed(\"_c4\", \"部署名\") \\\n",
    "             .withColumnRenamed(\"_c5\", \"誕生日\") \\\n",
    "             .withColumnRenamed(\"_c6\", \"入社日\") \\\n",
    "             .withColumnRenamed(\"_c7\", \"自宅郵便番号\") \\\n",
    "             .withColumnRenamed(\"_c8\", \"自宅都道府県\") \\\n",
    "             .withColumnRenamed(\"_c9\", \"自宅住所1\") \\\n",
    "             .withColumnRenamed(\"_c10\", \"自宅住所2\") \\\n",
    "             .withColumnRenamed(\"_c11\", \"自宅電話番号\") \\\n",
    "             .withColumnRenamed(\"_c11\", \"内線\") \\\n",
    "             .withColumnRenamed(\"_c11\", \"写真\") \\\n",
    "             .withColumnRenamed(\"_c12\", \"プロフィール1\") \\\n",
    "             .withColumnRenamed(\"_c13\", \"プロフィール2\") \\\n",
    "             .withColumnRenamed(\"_c14\", \"プロフィール3\")\n",
    "\n",
    "\n",
    "unso = unso.withColumnRenamed(\"_c0\", \"運送コード\") \\\n",
    "           .withColumnRenamed(\"_c1\", \"運送会社\") \\\n",
    "           .withColumnRenamed(\"_c2\", \"電話番号\")\n",
    "\n",
    "\n",
    "todofuken = todofuken.withColumnRenamed(\"_c0\", \"トドウフケン\") \\\n",
    "           .withColumnRenamed(\"_c1\", \"都道府県\") \\\n",
    "           .withColumnRenamed(\"_c2\", \"ローマ字\") \\\n",
    "           .withColumnRenamed(\"_c3\", \"地域名ローマ字\") \\\n",
    "           .withColumnRenamed(\"_c4\", \"地域\")"
   ]
  },
  {
   "cell_type": "markdown",
   "metadata": {
    "application/vnd.databricks.v1+cell": {
     "cellMetadata": {},
     "inputWidgets": {},
     "nuid": "1b1e5d09-523f-4527-915b-7bda9286c838",
     "showTitle": false,
     "tableResultSettingsMap": {},
     "title": ""
    }
   },
   "source": [
    "## 型の設定"
   ]
  },
  {
   "cell_type": "markdown",
   "metadata": {
    "application/vnd.databricks.v1+cell": {
     "cellMetadata": {},
     "inputWidgets": {},
     "nuid": "23125d50-bbf9-4853-9550-922cf916fa20",
     "showTitle": false,
     "tableResultSettingsMap": {},
     "title": ""
    }
   },
   "source": [
    "### 型変換"
   ]
  },
  {
   "cell_type": "code",
   "execution_count": 0,
   "metadata": {
    "application/vnd.databricks.v1+cell": {
     "cellMetadata": {
      "byteLimit": 2048000,
      "rowLimit": 10000
     },
     "inputWidgets": {},
     "nuid": "39e6c639-f270-4a75-9ed6-a8099c4260fd",
     "showTitle": false,
     "tableResultSettingsMap": {},
     "title": ""
    }
   },
   "outputs": [],
   "source": [
    "from pyspark.sql.types import IntegerType, TimestampType, DecimalType\n",
    "\n",
    "shiresaki = shiresaki.withColumn(\"仕入先コード\",shiresaki.仕入先コード.cast(IntegerType()))\n",
    "\n",
    "zyuchu = zyuchu.withColumn(\"受注コード\", zyuchu.受注コード.cast(IntegerType())) \\\n",
    "               .withColumn(\"得意先コード\", zyuchu.得意先コード.cast(IntegerType())) \\\n",
    "               .withColumn(\"社員コード\", zyuchu.社員コード.cast(IntegerType())) \\\n",
    "               .withColumn(\"受注日\", zyuchu.受注日.cast(TimestampType())) \\\n",
    "               .withColumn(\"締切日\", zyuchu.締切日.cast(TimestampType())) \\\n",
    "               .withColumn(\"出荷日\", zyuchu.出荷日.cast(TimestampType())) \\\n",
    "               .withColumn(\"運送料\", zyuchu.運送料.cast(DecimalType()))\n",
    "\n",
    "zyuchumeisai = zyuchumeisai.withColumn(\"受注コード\", zyuchumeisai.受注コード.cast(IntegerType())) \\\n",
    "                           .withColumn(\"商品コード\", zyuchumeisai.商品コード.cast(IntegerType())) \\\n",
    "                           .withColumn(\"単価\", zyuchumeisai.単価.cast(DecimalType())) \\\n",
    "                           .withColumn(\"数量\", zyuchumeisai.数量.cast(IntegerType())) \\\n",
    "                           .withColumn(\"割引\", zyuchumeisai.割引.cast(DecimalType()))\n",
    "\n",
    "shohin = shohin.withColumn(\"商品コード\", shohin.商品コード.cast(IntegerType())) \\\n",
    "               .withColumn(\"仕入先コード\", shohin.仕入先コード.cast(IntegerType())) \\\n",
    "               .withColumn(\"区分コード\", shohin.区分コード.cast(IntegerType())) \\\n",
    "               .withColumn(\"単価\", shohin.単価.cast(DecimalType())) \\\n",
    "               .withColumn(\"在庫\", shohin.在庫.cast(IntegerType()))\n",
    "\n",
    "\n",
    "shohinkubun = shohinkubun.withColumn(\"区分コード\", shohinkubun.区分コード.cast(IntegerType()))\n",
    "\n",
    "tokuisaki = tokuisaki.withColumn(\"得意先コード\", tokuisaki.得意先コード.cast(IntegerType()))\n",
    "\n",
    "shain = shain.withColumn(\"社員コード\", shain.社員コード.cast(IntegerType())) \\\n",
    "             .withColumn(\"誕生日\", shain.誕生日.cast(TimestampType())) \\\n",
    "             .withColumn(\"入社日\", shain.入社日.cast(TimestampType()))\n",
    "\n",
    "unso = unso.withColumn(\"運送コード\", unso.運送コード.cast(IntegerType()))"
   ]
  },
  {
   "cell_type": "markdown",
   "metadata": {
    "application/vnd.databricks.v1+cell": {
     "cellMetadata": {},
     "inputWidgets": {},
     "nuid": "f769bb92-ebb8-4e91-9118-65f79d98cab3",
     "showTitle": false,
     "tableResultSettingsMap": {},
     "title": ""
    }
   },
   "source": [
    "##データの表示"
   ]
  },
  {
   "cell_type": "markdown",
   "metadata": {
    "application/vnd.databricks.v1+cell": {
     "cellMetadata": {},
     "inputWidgets": {},
     "nuid": "19953c37-7235-4c48-89ef-949722093070",
     "showTitle": false,
     "tableResultSettingsMap": {},
     "title": ""
    }
   },
   "source": [
    "##仕入先"
   ]
  },
  {
   "cell_type": "code",
   "execution_count": 0,
   "metadata": {
    "application/vnd.databricks.v1+cell": {
     "cellMetadata": {
      "byteLimit": 2048000,
      "rowLimit": 10000
     },
     "inputWidgets": {},
     "nuid": "88d24401-7daf-42d7-8cd9-fa4fec85ca47",
     "showTitle": false,
     "tableResultSettingsMap": {},
     "title": ""
    }
   },
   "outputs": [],
   "source": [
    "display(shiresaki)"
   ]
  },
  {
   "cell_type": "markdown",
   "metadata": {
    "application/vnd.databricks.v1+cell": {
     "cellMetadata": {},
     "inputWidgets": {},
     "nuid": "bff8d2da-872e-441f-aac7-f27e02dc6351",
     "showTitle": false,
     "tableResultSettingsMap": {},
     "title": ""
    }
   },
   "source": [
    "###得意先"
   ]
  },
  {
   "cell_type": "code",
   "execution_count": 0,
   "metadata": {
    "application/vnd.databricks.v1+cell": {
     "cellMetadata": {},
     "inputWidgets": {},
     "nuid": "461b9b79-5e61-49fb-8944-ebe1c57015d1",
     "showTitle": false,
     "tableResultSettingsMap": {},
     "title": ""
    }
   },
   "outputs": [],
   "source": [
    "display(tokuisaki)"
   ]
  },
  {
   "cell_type": "markdown",
   "metadata": {
    "application/vnd.databricks.v1+cell": {
     "cellMetadata": {},
     "inputWidgets": {},
     "nuid": "2ad53804-2801-42dc-b894-916754583012",
     "showTitle": false,
     "tableResultSettingsMap": {},
     "title": ""
    }
   },
   "source": [
    "###社員"
   ]
  },
  {
   "cell_type": "code",
   "execution_count": 0,
   "metadata": {
    "application/vnd.databricks.v1+cell": {
     "cellMetadata": {},
     "inputWidgets": {},
     "nuid": "67040eb8-aa06-4809-9df8-a67f0cf579b0",
     "showTitle": false,
     "tableResultSettingsMap": {},
     "title": ""
    }
   },
   "outputs": [],
   "source": [
    "display(shain)"
   ]
  },
  {
   "cell_type": "markdown",
   "metadata": {
    "application/vnd.databricks.v1+cell": {
     "cellMetadata": {},
     "inputWidgets": {},
     "nuid": "96edf762-bb8b-485e-afeb-b992e3d6d9e0",
     "showTitle": false,
     "tableResultSettingsMap": {},
     "title": ""
    }
   },
   "source": [
    "###都道府県"
   ]
  },
  {
   "cell_type": "code",
   "execution_count": 0,
   "metadata": {
    "application/vnd.databricks.v1+cell": {
     "cellMetadata": {},
     "inputWidgets": {},
     "nuid": "5525c795-c788-4228-b0cd-7989a14d2c99",
     "showTitle": false,
     "tableResultSettingsMap": {},
     "title": ""
    }
   },
   "outputs": [],
   "source": [
    "display(todofuken)"
   ]
  },
  {
   "cell_type": "markdown",
   "metadata": {
    "application/vnd.databricks.v1+cell": {
     "cellMetadata": {},
     "inputWidgets": {},
     "nuid": "4bc76f65-7e26-4aa7-afb6-b87e42bfb5d2",
     "showTitle": false,
     "tableResultSettingsMap": {},
     "title": ""
    }
   },
   "source": [
    "###商品"
   ]
  },
  {
   "cell_type": "code",
   "execution_count": 0,
   "metadata": {
    "application/vnd.databricks.v1+cell": {
     "cellMetadata": {},
     "inputWidgets": {},
     "nuid": "f7915c56-5ac7-44ee-8292-01c65e3d1b64",
     "showTitle": false,
     "tableResultSettingsMap": {},
     "title": ""
    }
   },
   "outputs": [],
   "source": [
    "display(shohin)"
   ]
  },
  {
   "cell_type": "markdown",
   "metadata": {
    "application/vnd.databricks.v1+cell": {
     "cellMetadata": {},
     "inputWidgets": {},
     "nuid": "94c94eca-5bf2-4ab2-bb52-a1effada9582",
     "showTitle": false,
     "tableResultSettingsMap": {},
     "title": ""
    }
   },
   "source": [
    "###商品区分"
   ]
  },
  {
   "cell_type": "code",
   "execution_count": 0,
   "metadata": {
    "application/vnd.databricks.v1+cell": {
     "cellMetadata": {},
     "inputWidgets": {},
     "nuid": "a31b79de-50b8-4e43-9c95-968252ed5bf4",
     "showTitle": false,
     "tableResultSettingsMap": {},
     "title": ""
    }
   },
   "outputs": [],
   "source": [
    "display(shohinkubun)"
   ]
  },
  {
   "cell_type": "markdown",
   "metadata": {
    "application/vnd.databricks.v1+cell": {
     "cellMetadata": {},
     "inputWidgets": {},
     "nuid": "88253730-699b-49bd-bde9-9a1803e923a0",
     "showTitle": false,
     "tableResultSettingsMap": {},
     "title": ""
    }
   },
   "source": [
    "###運送会社"
   ]
  },
  {
   "cell_type": "code",
   "execution_count": 0,
   "metadata": {
    "application/vnd.databricks.v1+cell": {
     "cellMetadata": {},
     "inputWidgets": {},
     "nuid": "cc4f057f-5584-4922-9c0a-874d49ddc514",
     "showTitle": false,
     "tableResultSettingsMap": {},
     "title": ""
    }
   },
   "outputs": [],
   "source": [
    "display(unso)"
   ]
  },
  {
   "cell_type": "markdown",
   "metadata": {
    "application/vnd.databricks.v1+cell": {
     "cellMetadata": {},
     "inputWidgets": {},
     "nuid": "24888dbd-264c-497b-a18e-fc19b16c1262",
     "showTitle": false,
     "tableResultSettingsMap": {},
     "title": ""
    }
   },
   "source": [
    "###受注"
   ]
  },
  {
   "cell_type": "code",
   "execution_count": 0,
   "metadata": {
    "application/vnd.databricks.v1+cell": {
     "cellMetadata": {},
     "inputWidgets": {},
     "nuid": "d84d22bb-f582-462f-b825-aadc61ee8312",
     "showTitle": false,
     "tableResultSettingsMap": {},
     "title": ""
    }
   },
   "outputs": [],
   "source": [
    "display(zyuchu)"
   ]
  },
  {
   "cell_type": "markdown",
   "metadata": {
    "application/vnd.databricks.v1+cell": {
     "cellMetadata": {},
     "inputWidgets": {},
     "nuid": "e723216b-3c14-4e7a-a643-7dbf322b333b",
     "showTitle": false,
     "tableResultSettingsMap": {},
     "title": ""
    }
   },
   "source": [
    "###受注明細"
   ]
  },
  {
   "cell_type": "code",
   "execution_count": 0,
   "metadata": {
    "application/vnd.databricks.v1+cell": {
     "cellMetadata": {},
     "inputWidgets": {},
     "nuid": "a9af84c0-868b-4d40-9fbe-fe80ad8c1f93",
     "showTitle": false,
     "tableResultSettingsMap": {},
     "title": ""
    }
   },
   "outputs": [],
   "source": [
    "display(zyuchumeisai)"
   ]
  },
  {
   "cell_type": "markdown",
   "metadata": {
    "application/vnd.databricks.v1+cell": {
     "cellMetadata": {},
     "inputWidgets": {},
     "nuid": "c6bd90a8-9ed2-4db8-9dbf-fb63bd9d5cf1",
     "showTitle": false,
     "tableResultSettingsMap": {},
     "title": ""
    }
   },
   "source": [
    "##出力操作"
   ]
  },
  {
   "cell_type": "markdown",
   "metadata": {
    "application/vnd.databricks.v1+cell": {
     "cellMetadata": {},
     "inputWidgets": {},
     "nuid": "03f8833a-fc1e-4dbe-8ace-b40e1e639341",
     "showTitle": false,
     "tableResultSettingsMap": {},
     "title": ""
    }
   },
   "source": [
    "###parquet ファイルへ書き出し"
   ]
  },
  {
   "cell_type": "code",
   "execution_count": 0,
   "metadata": {
    "application/vnd.databricks.v1+cell": {
     "cellMetadata": {
      "byteLimit": 2048000,
      "rowLimit": 10000
     },
     "inputWidgets": {},
     "nuid": "83551170-54dd-45ff-9840-0755a836a378",
     "showTitle": false,
     "tableResultSettingsMap": {},
     "title": ""
    }
   },
   "outputs": [],
   "source": [
    "shiresaki.write.mode('overwrite').parquet(f\"{dl2Uri}/adb/parquet/仕入先/\")\n",
    "zyuchu.write.mode('overwrite').parquet(f\"{dl2Uri}/adb/parquet/受注/\")\n",
    "zyuchumeisai.write.mode('overwrite').parquet(f\"{dl2Uri}/adb/parquet/受注明細/\")\n",
    "shohin.write.mode('overwrite').parquet(f\"{dl2Uri}/adb/parquet/商品/\")\n",
    "shohinkubun.write.mode('overwrite').parquet(f\"{dl2Uri}/adb/parquet/商品区分/\")\n",
    "tokuisaki.write.mode('overwrite').parquet(f\"{dl2Uri}/adb/parquet/得意先/\")\n",
    "shain.write.mode('overwrite').parquet(f\"{dl2Uri}/adb/parquet/社員/\")\n",
    "unso.write.mode('overwrite').parquet(f\"{dl2Uri}/adb/parquet/運送会社/\")\n",
    "todofuken.write.mode('overwrite').parquet(f\"{dl2Uri}/adb/parquet/都道府県/\")"
   ]
  },
  {
   "cell_type": "markdown",
   "metadata": {
    "application/vnd.databricks.v1+cell": {
     "cellMetadata": {},
     "inputWidgets": {},
     "nuid": "5d6157d1-f1d7-4ffb-b59e-77c347363481",
     "showTitle": false,
     "tableResultSettingsMap": {},
     "title": ""
    }
   },
   "source": [
    "##確認操作"
   ]
  },
  {
   "cell_type": "markdown",
   "metadata": {
    "application/vnd.databricks.v1+cell": {
     "cellMetadata": {},
     "inputWidgets": {},
     "nuid": "6b8f0623-a8bb-4032-b39c-e5273a25e70e",
     "showTitle": false,
     "tableResultSettingsMap": {},
     "title": ""
    }
   },
   "source": [
    "### parquetファイルの読み出し"
   ]
  },
  {
   "cell_type": "code",
   "execution_count": 0,
   "metadata": {
    "application/vnd.databricks.v1+cell": {
     "cellMetadata": {
      "byteLimit": 2048000,
      "rowLimit": 10000
     },
     "inputWidgets": {},
     "nuid": "ff08c5ad-9a43-4d26-b5a0-3f424533a6f2",
     "showTitle": false,
     "tableResultSettingsMap": {},
     "title": ""
    }
   },
   "outputs": [],
   "source": [
    "parquet_shiresaki = spark.read.format(\"parquet\").load(f\"{dl2Uri}/adb/parquet/仕入先/\")\n",
    "parquet_zyuchu = spark.read.format(\"parquet\").load(f\"{dl2Uri}/adb/parquet/受注/\")\n",
    "parquet_zyuchumeisai = spark.read.format(\"parquet\").load(f\"{dl2Uri}/adb/parquet/受注明細/\")\n",
    "parquet_shohin = spark.read.format(\"parquet\").load(f\"{dl2Uri}/adb/parquet/商品/\")\n",
    "parquet_shohinkubun = spark.read.format(\"parquet\").load(f\"{dl2Uri}/adb/parquet/商品区分/\")\n",
    "parquet_tokuisaki = spark.read.format(\"parquet\").load(f\"{dl2Uri}/adb/parquet/得意先/\")\n",
    "parquet_shain = spark.read.format(\"parquet\").load(f\"{dl2Uri}/adb/parquet/社員/\")\n",
    "parquet_unso = spark.read.format(\"parquet\").load(f\"{dl2Uri}/adb/parquet/運送会社/\")\n",
    "parquet_todofuken = spark.read.format(\"parquet\").load(f\"{dl2Uri}/adb/parquet/都道府県/\")"
   ]
  },
  {
   "cell_type": "code",
   "execution_count": 0,
   "metadata": {
    "application/vnd.databricks.v1+cell": {
     "cellMetadata": {
      "byteLimit": 2048000,
      "rowLimit": 10000
     },
     "inputWidgets": {},
     "nuid": "8d00b0cc-4e9d-420e-b483-d3a88449055c",
     "showTitle": false,
     "tableResultSettingsMap": {},
     "title": ""
    }
   },
   "outputs": [],
   "source": [
    "display(parquet_shiresaki)"
   ]
  },
  {
   "cell_type": "markdown",
   "metadata": {
    "application/vnd.databricks.v1+cell": {
     "cellMetadata": {},
     "inputWidgets": {},
     "nuid": "fe3d439a-ab5b-4e52-bef1-533be55ae938",
     "showTitle": false,
     "tableResultSettingsMap": {},
     "title": ""
    }
   },
   "source": [
    "### dela lake への書き出し"
   ]
  },
  {
   "cell_type": "code",
   "execution_count": 0,
   "metadata": {
    "application/vnd.databricks.v1+cell": {
     "cellMetadata": {
      "byteLimit": 2048000,
      "rowLimit": 10000
     },
     "inputWidgets": {},
     "nuid": "52a14daf-5db1-4e10-ad90-41d99c41e6d4",
     "showTitle": false,
     "tableResultSettingsMap": {},
     "title": ""
    }
   },
   "outputs": [],
   "source": [
    "parquet_shiresaki.write.format(\"delta\").mode('overwrite').save(f\"{dl2Uri}/adb/delta/仕入先/\")\n",
    "parquet_zyuchu.write.format(\"delta\").mode('overwrite').save(f\"{dl2Uri}/adb/delta/受注/\")\n",
    "parquet_zyuchumeisai.write.format(\"delta\").mode('overwrite').save(f\"{dl2Uri}/adb/delta/受注明細/\")\n",
    "parquet_shohin.write.format(\"delta\").mode('overwrite').save(f\"{dl2Uri}/adb/delta/商品/\")\n",
    "parquet_shohinkubun.write.format(\"delta\").mode('overwrite').save(f\"{dl2Uri}/adb/delta/商品区分/\")\n",
    "parquet_tokuisaki.write.format(\"delta\").mode('overwrite').save(f\"{dl2Uri}/adb/delta/得意先/\")\n",
    "parquet_shain.write.format(\"delta\").mode('overwrite').save(f\"{dl2Uri}/adb/delta/社員/\")\n",
    "parquet_unso.write.format(\"delta\").mode('overwrite').save(f\"{dl2Uri}/adb/delta/運送会社/\")\n",
    "parquet_todofuken.write.format(\"delta\").mode('overwrite').save(f\"{dl2Uri}/adb/delta/都道府県/\")"
   ]
  }
 ],
 "metadata": {
  "application/vnd.databricks.v1+notebook": {
   "computePreferences": null,
   "dashboards": [],
   "environmentMetadata": null,
   "inputWidgetPreferences": null,
   "language": "python",
   "notebookMetadata": {
    "mostRecentlyExecutedCommandWithImplicitDF": {
     "commandId": 5126426062554526,
     "dataframes": [
      "_sqldf"
     ]
    },
    "pythonIndentUnit": 4
   },
   "notebookName": "Data Laka Storage Load サンプル",
   "widgets": {}
  },
  "language_info": {
   "name": "python"
  }
 },
 "nbformat": 4,
 "nbformat_minor": 0
}
